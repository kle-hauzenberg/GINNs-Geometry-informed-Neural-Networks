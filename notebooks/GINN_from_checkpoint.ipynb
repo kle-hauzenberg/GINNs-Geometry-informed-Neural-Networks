{
 "cells": [
  {
   "cell_type": "code",
   "execution_count": null,
   "metadata": {},
   "outputs": [],
   "source": [
    "import sys\n",
    "sys.path.append('..')\n",
    "from train.train_utils.latent_sampler import LatentSampler\n",
    "from util.visualization.utils_mesh import get_watertight_mesh_for_latent\n",
    "import torch\n",
    "import numpy as np\n",
    "import k3d\n",
    "from tqdm import tqdm\n",
    "from util.checkpointing import load_yaml_and_drop_keys\n",
    "from util.misc import get_model\n",
    "from models.net_w_partials import NetWithPartials"
   ]
  },
  {
   "cell_type": "markdown",
   "metadata": {},
   "source": [
    "#### Load model and create latents"
   ]
  },
  {
   "cell_type": "code",
   "execution_count": 2,
   "metadata": {},
   "outputs": [
    {
     "name": "stderr",
     "output_type": "stream",
     "text": [
      "/tmp/ipykernel_110450/1574122111.py:12: FutureWarning: You are using `torch.load` with `weights_only=False` (the current default value), which uses the default pickle module implicitly. It is possible to construct malicious pickle data which will execute arbitrary code during unpickling (See https://github.com/pytorch/pytorch/blob/main/SECURITY.md#untrusted-models for more details). In a future release, the default value for `weights_only` will be flipped to `True`. This limits the functions that could be executed during unpickling. Arbitrary objects will no longer be allowed to be loaded via this mode unless they are explicitly allowlisted by the user via `torch.serialization.add_safe_globals`. We recommend you start setting `weights_only=True` for any use case where you don't have full control of the loaded file. Please open an issue on GitHub for any issues related to this experimental feature.\n",
      "  model.load_state_dict(state_dict=torch.load('../checkpoints/GINN-model.pt'))\n"
     ]
    },
    {
     "name": "stdout",
     "output_type": "stream",
     "text": [
      "z_latents: tensor([[0.0000, 0.0000],\n",
      "        [0.0000, 0.0500],\n",
      "        [0.0000, 0.1000],\n",
      "        [0.0500, 0.0000],\n",
      "        [0.0500, 0.0500],\n",
      "        [0.0500, 0.1000],\n",
      "        [0.1000, 0.0000],\n",
      "        [0.1000, 0.0500],\n",
      "        [0.1000, 0.1000]])\n"
     ]
    }
   ],
   "source": [
    "mc_resolution = 248\n",
    "device = 'cpu'\n",
    "n_shapes = 9\n",
    "torch.set_default_device(device)\n",
    "\n",
    "# Parameters\n",
    "config = load_yaml_and_drop_keys('../checkpoints/GINN-config.yml', keys_to_drop=[])\n",
    "bounds = torch.from_numpy(np.load('../GINN/simJEB/data/bounds.npy')).float()\n",
    "\n",
    "## MODEL\n",
    "model = get_model(**config['model'], use_legacy_gabor=True)\n",
    "model.load_state_dict(state_dict=torch.load('../checkpoints/GINN-model.pt'))\n",
    "\n",
    "# to handle derivatives of the model we created an abstraction called `NetWithPartials`\n",
    "netp = NetWithPartials.create_from_model(model, config['nz'], config['nx'])\n",
    "lat_sampler = LatentSampler(**config['latent_sampling'])\n",
    "z_latents = lat_sampler.val_z()\n",
    "print(f'z_latents: {z_latents}')"
   ]
  },
  {
   "cell_type": "markdown",
   "metadata": {},
   "source": [
    "#### Extract meshes"
   ]
  },
  {
   "cell_type": "code",
   "execution_count": 11,
   "metadata": {},
   "outputs": [
    {
     "name": "stderr",
     "output_type": "stream",
     "text": [
      "100%|██████████| 9/9 [00:45<00:00,  5.04s/it]\n"
     ]
    }
   ],
   "source": [
    "## visualize shapes for a range of z\n",
    "meshes = []\n",
    "for z in tqdm(z_latents): ## do marching cubes for every z\n",
    "    meshes.append(get_watertight_mesh_for_latent(netp.f_, netp.params, z, bounds, mc_resolution, device, \n",
    "                                                 chunks=1, level=0,\n",
    "                                                 surpress_watertight=True))"
   ]
  },
  {
   "cell_type": "markdown",
   "metadata": {},
   "source": [
    "#### Visualize meshes"
   ]
  },
  {
   "cell_type": "code",
   "execution_count": null,
   "metadata": {},
   "outputs": [
    {
     "data": {
      "application/vnd.jupyter.widget-view+json": {
       "model_id": "456cede8ecfb4b59974835e32310bf2a",
       "version_major": 2,
       "version_minor": 0
      },
      "text/plain": [
       "Output()"
      ]
     },
     "metadata": {},
     "output_type": "display_data"
    }
   ],
   "source": [
    "spacing = 1.5*(bounds[:,1] - bounds[:,0]) ## distances between the shape center to plot in a grid (1.5 times the shape bounding box)\n",
    "n_rows, n_cols = config['latent_sampling']['val_plot_grid']\n",
    "\n",
    "fig = k3d.plot(height=800)\n",
    "for i_shape in range(len(meshes)):\n",
    "    i_col = i_shape  % n_cols\n",
    "    i_row = i_shape // n_cols\n",
    "    fig += k3d.mesh(*meshes[i_shape], color=0xdddcdc, side='double', translation=[0, spacing[1]*i_col, spacing[2]*i_row])\n",
    "\n",
    "fig.display()"
   ]
  }
 ],
 "metadata": {
  "kernelspec": {
   "display_name": "env_GINN",
   "language": "python",
   "name": "python3"
  },
  "language_info": {
   "codemirror_mode": {
    "name": "ipython",
    "version": 3
   },
   "file_extension": ".py",
   "mimetype": "text/x-python",
   "name": "python",
   "nbconvert_exporter": "python",
   "pygments_lexer": "ipython3",
   "version": "3.12.4"
  }
 },
 "nbformat": 4,
 "nbformat_minor": 2
}
