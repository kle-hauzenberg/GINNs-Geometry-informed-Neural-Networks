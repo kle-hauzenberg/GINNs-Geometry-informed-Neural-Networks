{
 "cells": [
  {
   "cell_type": "code",
   "execution_count": 17,
   "metadata": {},
   "outputs": [],
   "source": [
    "import sys\n",
    "sys.path.append('..')\n",
    "from train.train_utils.latent_sampler import LatentSampler\n",
    "from util.visualization.utils_mesh import get_watertight_mesh_for_latent\n",
    "import torch\n",
    "import numpy as np\n",
    "import k3d\n",
    "from tqdm import tqdm\n",
    "from util.checkpointing import load_yaml_and_drop_keys\n",
    "from util.misc import get_model\n",
    "from models.net_w_partials import NetWithPartials\n"
   ]
  },
  {
   "cell_type": "markdown",
   "metadata": {},
   "source": [
    "#### Load model and create latents"
   ]
  },
  {
   "cell_type": "code",
   "execution_count": 18,
   "metadata": {},
   "outputs": [
    {
     "name": "stdout",
     "output_type": "stream",
     "text": [
      "z_latents: tensor([[0.0000, 0.0000],\n",
      "        [0.0000, 0.0500],\n",
      "        [0.0000, 0.1000],\n",
      "        [0.0500, 0.0000],\n",
      "        [0.0500, 0.0500],\n",
      "        [0.0500, 0.1000],\n",
      "        [0.1000, 0.0000],\n",
      "        [0.1000, 0.0500],\n",
      "        [0.1000, 0.1000]])\n"
     ]
    }
   ],
   "source": [
    "mc_resolution = 248\n",
    "device = 'cpu'\n",
    "n_shapes = 9\n",
    "torch.set_default_device(device)\n",
    "\n",
    "# Parameters\n",
    "config = load_yaml_and_drop_keys('../checkpoints/GINN-config.yml', keys_to_drop=[])\n",
    "bounds = torch.from_numpy(np.load('../GINN/simJEB/data/bounds.npy')).float()\n",
    "\n",
    "## MODEL\n",
    "model = get_model(**config['model'], use_legacy_gabor=True)\n",
    "model.load_state_dict(state_dict=torch.load('../checkpoints/GINN-model.pt'))\n",
    "\n",
    "# to handle derivatives of the model we created an abstraction called `NetWithPartials`\n",
    "netp = NetWithPartials.create_from_model(model, config['nz'], config['nx'])\n",
    "lat_sampler = LatentSampler(**config['latent_sampling'])\n",
    "z_latents = lat_sampler.val_z()\n",
    "print(f'z_latents: {z_latents}')"
   ]
  },
  {
   "cell_type": "markdown",
   "metadata": {},
   "source": [
    "#### Extract meshes"
   ]
  },
  {
   "cell_type": "code",
   "execution_count": 19,
   "metadata": {},
   "outputs": [
    {
     "name": "stderr",
     "output_type": "stream",
     "text": [
      "100%|██████████| 9/9 [00:09<00:00,  1.07s/it]\n"
     ]
    }
   ],
   "source": [
    "## visualize shapes for a range of z\n",
    "meshes = []\n",
    "for z in tqdm(z_latents): ## do marching cubes for every z\n",
    "    meshes.append(get_watertight_mesh_for_latent(netp.f_, netp.params, z, bounds, mc_resolution, device, \n",
    "                                                 chunks=1, level=0,\n",
    "                                                 surpress_watertight=True))\n",
    "    "
   ]
  },
  {
   "cell_type": "markdown",
   "metadata": {},
   "source": [
    "#### Visualize meshes"
   ]
  },
  {
   "cell_type": "code",
   "execution_count": 20,
   "metadata": {},
   "outputs": [
    {
     "data": {
      "application/vnd.jupyter.widget-view+json": {
       "model_id": "39822948db634bd687c41a55256d18ec",
       "version_major": 2,
       "version_minor": 0
      },
      "text/plain": [
       "Output()"
      ]
     },
     "metadata": {},
     "output_type": "display_data"
    }
   ],
   "source": [
    "plot = k3d.plot(height=800, camera_fov=1)\n",
    "mesh = meshes[0]\n",
    "plot += k3d.mesh(mesh[0], mesh[1], color=0xdddcdc, flat_shading=False)\n",
    "plot.display()"
   ]
  }
 ],
 "metadata": {
  "kernelspec": {
   "display_name": "Python 3",
   "language": "python",
   "name": "python3"
  },
  "language_info": {
   "codemirror_mode": {
    "name": "ipython",
    "version": 3
   },
   "file_extension": ".py",
   "mimetype": "text/x-python",
   "name": "python",
   "nbconvert_exporter": "python",
   "pygments_lexer": "ipython3",
   "version": "3.12.7"
  }
 },
 "nbformat": 4,
 "nbformat_minor": 2
}
